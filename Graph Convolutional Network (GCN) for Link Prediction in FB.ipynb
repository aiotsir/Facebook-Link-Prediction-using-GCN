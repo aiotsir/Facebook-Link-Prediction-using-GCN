{
  "nbformat": 4,
  "nbformat_minor": 0,
  "metadata": {
    "colab": {
      "provenance": []
    },
    "kernelspec": {
      "name": "python3",
      "display_name": "Python 3"
    },
    "language_info": {
      "name": "python"
    }
  },
  "cells": [
    {
      "cell_type": "code",
      "execution_count": null,
      "metadata": {
        "colab": {
          "base_uri": "https://localhost:8080/"
        },
        "id": "9K8p9N8LiPfk",
        "outputId": "18a07de2-23ec-4c1e-a1b0-1b59163cea71"
      },
      "outputs": [
        {
          "output_type": "stream",
          "name": "stderr",
          "text": [
            "WARNING:tensorflow:From /usr/local/lib/python3.10/dist-packages/tensorflow/python/compat/v2_compat.py:108: disable_resource_variables (from tensorflow.python.ops.variable_scope) is deprecated and will be removed in a future version.\n",
            "Instructions for updating:\n",
            "non-resource variables are not supported in the long term\n"
          ]
        }
      ],
      "source": [
        "from __future__ import division\n",
        "from __future__ import print_function\n",
        "\n",
        "import time\n",
        "import numpy as np\n",
        "import scipy.sparse as sp\n",
        "import networkx as nx\n",
        "#import tensorflow as tf\n",
        "import tensorflow.compat.v1 as tf\n",
        "tf.disable_v2_behavior()\n",
        "from sklearn.metrics import roc_auc_score\n",
        "from sklearn.metrics import average_precision_score\n",
        "from sklearn.metrics import recall_score\n",
        "\n",
        "from sklearn.metrics import (precision_recall_curve,PrecisionRecallDisplay)\n",
        "from matplotlib import pyplot\n",
        "import seaborn as sns"
      ]
    },
    {
      "cell_type": "markdown",
      "source": [
        "Various Utility Functions"
      ],
      "metadata": {
        "id": "UX-qdnQEie_W"
      }
    },
    {
      "cell_type": "code",
      "source": [
        "def load_data():\n",
        "    g = nx.read_edgelist('1912.edges')\n",
        "    adj = nx.adjacency_matrix(g)\n",
        "    return adj\n",
        "\n",
        " #Create a weight variable with Glorot & Bengio (AISTATS 2010) initialization.\n",
        "def weight_variable_glorot(input_dim, output_dim, name=\"\"):\n",
        "    init_range = np.sqrt(6.0 / (input_dim + output_dim))\n",
        "    initial = tf.random_uniform(\n",
        "        [input_dim, output_dim], minval=-init_range,\n",
        "        maxval=init_range, dtype=tf.float32)\n",
        "    return tf.Variable(initial, name=name)\n",
        "\n",
        "\n",
        "def dropout_sparse(x, keep_prob, num_nonzero_elems):\n",
        "    noise_shape = [num_nonzero_elems]\n",
        "    random_tensor = keep_prob\n",
        "    random_tensor += tf.random_uniform(noise_shape)\n",
        "    dropout_mask = tf.cast(tf.floor(random_tensor), dtype=tf.bool)\n",
        "    pre_out = tf.sparse_retain(x, dropout_mask)\n",
        "    return pre_out * (1. / keep_prob)\n",
        "\n",
        "\n",
        "def sparse_to_tuple(sparse_mx):\n",
        "    if not sp.isspmatrix_coo(sparse_mx):\n",
        "        sparse_mx = sparse_mx.tocoo()\n",
        "    coords = np.vstack((sparse_mx.row, sparse_mx.col)).transpose()\n",
        "    values = sparse_mx.data\n",
        "    shape = sparse_mx.shape\n",
        "    return coords, values, shape\n",
        "\n",
        "\n",
        "def preprocess_graph(adj):\n",
        "    adj = sp.coo_matrix(adj)\n",
        "    adj_ = adj + sp.eye(adj.shape[0])\n",
        "    rowsum = np.array(adj_.sum(1))\n",
        "    degree_mat_inv_sqrt = sp.diags(np.power(rowsum, -0.5).flatten())\n",
        "    adj_normalized = adj_.dot(degree_mat_inv_sqrt).transpose().dot(degree_mat_inv_sqrt).tocoo()\n",
        "    return sparse_to_tuple(adj_normalized)\n",
        "\n",
        "\n",
        "def construct_feed_dict(adj_normalized, adj, features, placeholders):\n",
        "    feed_dict = dict()\n",
        "    feed_dict.update({placeholders['features']: features})\n",
        "    feed_dict.update({placeholders['adj']: adj_normalized})\n",
        "    feed_dict.update({placeholders['adj_orig']: adj})\n",
        "    return feed_dict\n",
        "\n",
        "\n",
        "def mask_test_edges(adj):\n",
        "    # Function to build test set with 2% positive links\n",
        "    # Remove diagonal elements\n",
        "    adj = adj - sp.dia_matrix((adj.diagonal()[np.newaxis, :], [0]), shape=adj.shape)\n",
        "    adj.eliminate_zeros()\n",
        "\n",
        "    adj_triu = sp.triu(adj)\n",
        "    adj_tuple = sparse_to_tuple(adj_triu)\n",
        "    edges = adj_tuple[0]\n",
        "    edges_all = sparse_to_tuple(adj)[0]\n",
        "    num_test = int(np.floor(edges.shape[0] / 50.))\n",
        "    num_val = int(np.floor(edges.shape[0] / 50.))\n",
        "\n",
        "    all_edge_idx = np.arange(edges.shape[0])\n",
        "    np.random.shuffle(all_edge_idx)\n",
        "    val_edge_idx = all_edge_idx[:num_val]\n",
        "    test_edge_idx = all_edge_idx[num_val:(num_val + num_test)]\n",
        "    test_edges = edges[test_edge_idx]\n",
        "    val_edges = edges[val_edge_idx]\n",
        "    train_edges = np.delete(edges, np.hstack([test_edge_idx, val_edge_idx]), axis=0)\n",
        "\n",
        "    def ismember(a, b):\n",
        "        rows_close = np.all((a - b[:, None]) == 0, axis=-1)\n",
        "        return np.any(rows_close)\n",
        "\n",
        "    test_edges_false = []\n",
        "    while len(test_edges_false) < len(test_edges):\n",
        "        n_rnd = len(test_edges) - len(test_edges_false)\n",
        "        rnd = np.random.randint(0, adj.shape[0], size=2 * n_rnd)\n",
        "        idxs_i = rnd[:n_rnd]\n",
        "        idxs_j = rnd[n_rnd:]\n",
        "        for i in range(n_rnd):\n",
        "            idx_i = idxs_i[i]\n",
        "            idx_j = idxs_j[i]\n",
        "            if idx_i == idx_j:\n",
        "                continue\n",
        "            if ismember([idx_i, idx_j], edges_all):\n",
        "                continue\n",
        "            if test_edges_false:\n",
        "                if ismember([idx_j, idx_i], np.array(test_edges_false)):\n",
        "                    continue\n",
        "                if ismember([idx_i, idx_j], np.array(test_edges_false)):\n",
        "                    continue\n",
        "            test_edges_false.append([idx_i, idx_j])\n",
        "\n",
        "    val_edges_false = []\n",
        "    while len(val_edges_false) < len(val_edges):\n",
        "        n_rnd = len(val_edges) - len(val_edges_false)\n",
        "        rnd = np.random.randint(0, adj.shape[0], size=2 * n_rnd)\n",
        "        idxs_i = rnd[:n_rnd]\n",
        "        idxs_j = rnd[n_rnd:]\n",
        "        for i in range(n_rnd):\n",
        "            idx_i = idxs_i[i]\n",
        "            idx_j = idxs_j[i]\n",
        "            if idx_i == idx_j:\n",
        "                continue\n",
        "            if ismember([idx_i, idx_j], train_edges):\n",
        "                continue\n",
        "            if ismember([idx_j, idx_i], train_edges):\n",
        "                continue\n",
        "            if ismember([idx_i, idx_j], val_edges):\n",
        "                continue\n",
        "            if ismember([idx_j, idx_i], val_edges):\n",
        "                continue\n",
        "            if val_edges_false:\n",
        "                if ismember([idx_j, idx_i], np.array(val_edges_false)):\n",
        "                    continue\n",
        "                if ismember([idx_i, idx_j], np.array(val_edges_false)):\n",
        "                    continue\n",
        "            val_edges_false.append([idx_i, idx_j])\n",
        "\n",
        "    # Re-build adj matrix\n",
        "    data = np.ones(train_edges.shape[0])\n",
        "    adj_train = sp.csr_matrix((data, (train_edges[:, 0], train_edges[:, 1])), shape=adj.shape)\n",
        "    adj_train = adj_train + adj_train.T\n",
        "\n",
        "    return adj_train, train_edges, val_edges, val_edges_false, test_edges, test_edges_false\n",
        "\n",
        "\n",
        "def get_roc_score(edges_pos, edges_neg):\n",
        "    feed_dict.update({placeholders['dropout']: 0})\n",
        "    emb = sess.run(model.embeddings, feed_dict=feed_dict)\n",
        "\n",
        "    def sigmoid(x):\n",
        "        return 1 / (1 + np.exp(-x))\n",
        "\n",
        "    # Predict on test set of edges\n",
        "    adj_rec = np.dot(emb, emb.T)\n",
        "    preds = []\n",
        "    pos = []\n",
        "    for e in edges_pos:\n",
        "        preds.append(sigmoid(adj_rec[e[0], e[1]]))\n",
        "        pos.append(adj_orig[e[0], e[1]])\n",
        "\n",
        "    preds_neg = []\n",
        "    neg = []\n",
        "    for e in edges_neg:\n",
        "        preds_neg.append(sigmoid(adj_rec[e[0], e[1]]))\n",
        "        neg.append(adj_orig[e[0], e[1]])\n",
        "\n",
        "    preds_all = np.hstack([preds, preds_neg])\n",
        "    labels_all = np.hstack([np.ones(len(preds)), np.zeros(len(preds))])\n",
        "    roc_score = roc_auc_score(labels_all, preds_all)\n",
        "    ap_score = average_precision_score(labels_all, preds_all)\n",
        "    return roc_score, ap_score\n",
        "\n",
        "# to get precision\n",
        "#from sklearn.metrics import plot_precision_recall_curve\n",
        "def get_pre_rec(edges_pos, edges_neg):\n",
        "    feed_dict.update({placeholders['dropout']: 0})\n",
        "    emb = sess.run(model.embeddings, feed_dict=feed_dict)\n",
        "\n",
        "    def sigmoid(x):\n",
        "        return 1 / (1 + np.exp(-x))\n",
        "\n",
        "    # Predict on test set of edges\n",
        "    adj_rec = np.dot(emb, emb.T)\n",
        "    preds = []\n",
        "    pos = []\n",
        "    for e in edges_pos:\n",
        "        preds.append(sigmoid(adj_rec[e[0], e[1]]))\n",
        "        pos.append(adj_orig[e[0], e[1]])\n",
        "\n",
        "    preds_neg = []\n",
        "    neg = []\n",
        "    for e in edges_neg:\n",
        "        preds_neg.append(sigmoid(adj_rec[e[0], e[1]]))\n",
        "        neg.append(adj_orig[e[0], e[1]])\n",
        "\n",
        "    preds_all = np.hstack([preds, preds_neg])\n",
        "    labels_all = np.hstack([np.ones(len(preds)), np.zeros(len(preds))])\n",
        "    for i in range (len(preds_all)):\n",
        "        a = np.mean(preds_all)\n",
        "        if preds_all[i]< a :\n",
        "            preds_all[i] = 0\n",
        "        else :\n",
        "            preds_all[i] = 1\n",
        "\n",
        "    recallVal = recall_score(labels_all, preds_all)\n",
        "    precisionVal, recallVal, thresholds = precision_recall_curve(labels_all, preds_all)\n",
        "    return  precisionVal, recallVal\n",
        "\n",
        "# to getconfusion matrix\n",
        "from sklearn.metrics import confusion_matrix\n",
        "def get_conf(edges_pos, edges_neg):\n",
        "    feed_dict.update({placeholders['dropout']: 0})\n",
        "    emb = sess.run(model.embeddings, feed_dict=feed_dict)\n",
        "\n",
        "    def sigmoid(x):\n",
        "        return 1 / (1 + np.exp(-x))\n",
        "\n",
        "    # Predict on test set of edges\n",
        "    adj_rec = np.dot(emb, emb.T)\n",
        "    preds = []\n",
        "    pos = []\n",
        "    for e in edges_pos:\n",
        "        preds.append(sigmoid(adj_rec[e[0], e[1]]))\n",
        "        pos.append(adj_orig[e[0], e[1]])\n",
        "\n",
        "    preds_neg = []\n",
        "    neg = []\n",
        "    for e in edges_neg:\n",
        "        preds_neg.append(sigmoid(adj_rec[e[0], e[1]]))\n",
        "        neg.append(adj_orig[e[0], e[1]])\n",
        "\n",
        "    preds_all = np.hstack([preds, preds_neg])\n",
        "    labels_all = np.hstack([np.ones(len(preds)), np.zeros(len(preds))])\n",
        "    for i in range (len(preds_all)):\n",
        "        a = np.mean(preds_all)\n",
        "        if preds_all[i]< a :\n",
        "            preds_all[i] = 0\n",
        "        else :\n",
        "            preds_all[i] = 1\n",
        "\n",
        "    cf_matrix = confusion_matrix(labels_all, preds_all)\n",
        "    return cf_matrix\n"
      ],
      "metadata": {
        "id": "osgFjsOOiet_"
      },
      "execution_count": null,
      "outputs": []
    },
    {
      "cell_type": "code",
      "source": [
        "# Set random seed\n",
        "seed = 123\n",
        "np.random.seed(seed)\n",
        "tf.set_random_seed(seed)\n",
        "\n",
        "# Settings\n",
        "flags = tf.app.flags\n",
        "FLAGS = flags.FLAGS\n",
        "flags.DEFINE_float('learning_rate', 0.01, 'Initial learning rate.')\n",
        "flags.DEFINE_integer('epochs', 50, 'Number of epochs to train.')\n",
        "flags.DEFINE_integer('hidden1', 32, 'Number of units in hidden layer 1.')\n",
        "flags.DEFINE_integer('hidden2', 32, 'Number of units in hidden layer 2.') # originally 16\n",
        "flags.DEFINE_float('dropout', 0.1, 'Dropout rate (1 - keep probability).')"
      ],
      "metadata": {
        "colab": {
          "base_uri": "https://localhost:8080/"
        },
        "id": "qZVUJin6imwm",
        "outputId": "26a4df57-649b-4297-d84d-320a0527cba1"
      },
      "execution_count": null,
      "outputs": [
        {
          "output_type": "execute_result",
          "data": {
            "text/plain": [
              "<absl.flags._flagvalues.FlagHolder at 0x7ed869896b60>"
            ]
          },
          "metadata": {},
          "execution_count": 3
        }
      ]
    },
    {
      "cell_type": "markdown",
      "source": [
        "Define Convolutional Layers for GCN Model"
      ],
      "metadata": {
        "id": "L79GqSkiipqe"
      }
    },
    {
      "cell_type": "code",
      "source": [
        "class GraphConvolution():\n",
        "    \"\"\"Basic graph convolution layer for undirected graph without edge labels.\"\"\"\n",
        "    def __init__(self, input_dim, output_dim, adj, name, dropout=0., act=tf.nn.relu):\n",
        "        self.name = name\n",
        "        self.vars = {}\n",
        "        self.issparse = False\n",
        "        with tf.variable_scope(self.name + '_vars'):\n",
        "            self.vars['weights'] = weight_variable_glorot(input_dim, output_dim, name='weights')\n",
        "        self.dropout = dropout\n",
        "        self.adj = adj\n",
        "        self.act = act\n",
        "\n",
        "    def __call__(self, inputs):\n",
        "        with tf.name_scope(self.name):\n",
        "            x = inputs\n",
        "            x = tf.nn.dropout(x, 1-self.dropout)\n",
        "            x = tf.matmul(x, self.vars['weights'])\n",
        "            x = tf.sparse_tensor_dense_matmul(self.adj, x)\n",
        "            outputs = self.act(x)\n",
        "        return outputs\n",
        "\n",
        "\n",
        "class GraphConvolutionSparse():\n",
        "    \"\"\"Graph convolution layer for sparse inputs.\"\"\"\n",
        "    def __init__(self, input_dim, output_dim, adj, features_nonzero, name, dropout=0., act=tf.nn.relu):\n",
        "        self.name = name\n",
        "        self.vars = {}\n",
        "        self.issparse = False\n",
        "        with tf.variable_scope(self.name + '_vars'):\n",
        "            self.vars['weights'] = weight_variable_glorot(input_dim, output_dim, name='weights')\n",
        "        self.dropout = dropout\n",
        "        self.adj = adj\n",
        "        self.act = act\n",
        "        self.issparse = True\n",
        "        self.features_nonzero = features_nonzero\n",
        "\n",
        "    def __call__(self, inputs):\n",
        "        with tf.name_scope(self.name):\n",
        "            x = inputs\n",
        "            x = dropout_sparse(x, 1-self.dropout, self.features_nonzero)\n",
        "            x = tf.sparse_tensor_dense_matmul(x, self.vars['weights'])\n",
        "            x = tf.sparse_tensor_dense_matmul(self.adj, x)\n",
        "            outputs = self.act(x)\n",
        "        return outputs\n",
        "\n",
        "\n",
        "class InnerProductDecoder():\n",
        "    \"\"\"Decoder model layer for link prediction.\"\"\"\n",
        "    def __init__(self, input_dim, name, dropout=0., act=tf.nn.sigmoid):\n",
        "        self.name = name\n",
        "        self.issparse = False\n",
        "        self.dropout = dropout\n",
        "        self.act = act\n",
        "\n",
        "    def __call__(self, inputs):\n",
        "        with tf.name_scope(self.name):\n",
        "            inputs = tf.nn.dropout(inputs, 1-self.dropout)\n",
        "            x = tf.transpose(inputs)\n",
        "            x = tf.matmul(inputs, x)\n",
        "            x = tf.reshape(x, [-1])\n",
        "            outputs = self.act(x)\n",
        "        return outputs"
      ],
      "metadata": {
        "id": "-0oA6KrTisw2"
      },
      "execution_count": null,
      "outputs": []
    },
    {
      "cell_type": "markdown",
      "source": [
        "Specify the Architecture of our GCN Model"
      ],
      "metadata": {
        "id": "RnlA7Ko0iwev"
      }
    },
    {
      "cell_type": "code",
      "source": [
        "class GCNModel():\n",
        "    def __init__(self, placeholders, num_features, features_nonzero, name):\n",
        "        self.name = name\n",
        "        self.inputs = placeholders['features']\n",
        "        self.input_dim = num_features\n",
        "        self.features_nonzero = features_nonzero\n",
        "        self.adj = placeholders['adj']\n",
        "        self.dropout = placeholders['dropout']\n",
        "        with tf.variable_scope(self.name):\n",
        "            self.build()\n",
        "\n",
        "    def build(self):\n",
        "        self.hidden1 = GraphConvolutionSparse(\n",
        "            name='gcn_sparse_layer',\n",
        "            input_dim=self.input_dim,\n",
        "            output_dim=FLAGS.hidden1,\n",
        "            adj=self.adj,\n",
        "            features_nonzero=self.features_nonzero,\n",
        "            act=tf.nn.relu,\n",
        "            dropout=self.dropout)(self.inputs)\n",
        "\n",
        "        self.embeddings = GraphConvolution(\n",
        "            name='gcn_dense_layer',\n",
        "            input_dim=FLAGS.hidden1,\n",
        "            output_dim=FLAGS.hidden2,\n",
        "            adj=self.adj,\n",
        "            act=lambda x: x,\n",
        "            dropout=self.dropout)(self.hidden1)\n",
        "\n",
        "        self.reconstructions = InnerProductDecoder(\n",
        "            name='gcn_decoder',\n",
        "            input_dim=FLAGS.hidden2,\n",
        "            act=lambda x: x)(self.embeddings)"
      ],
      "metadata": {
        "id": "OyCT0gvFi0Af"
      },
      "execution_count": null,
      "outputs": []
    },
    {
      "cell_type": "markdown",
      "source": [
        "Specify the GCN Optimizer"
      ],
      "metadata": {
        "id": "j-EaF8uIi8IW"
      }
    },
    {
      "cell_type": "code",
      "source": [
        "class Optimizer():\n",
        "    def __init__(self, preds, labels, num_nodes, num_edges):\n",
        "        pos_weight = float(num_nodes**2 - num_edges) / num_edges\n",
        "        norm = num_nodes**2 / float((num_nodes**2 - num_edges) * 2)\n",
        "\n",
        "        preds_sub = preds\n",
        "        labels_sub = labels\n",
        "\n",
        "        self.cost = norm * tf.reduce_mean(\n",
        "            tf.nn.weighted_cross_entropy_with_logits(\n",
        "                logits=preds_sub, targets=labels_sub, pos_weight=pos_weight))\n",
        "        self.optimizer = tf.train.AdamOptimizer(learning_rate=FLAGS.learning_rate)  # Adam Optimizer\n",
        "\n",
        "        self.opt_op = self.optimizer.minimize(self.cost)\n",
        "        self.grads_vars = self.optimizer.compute_gradients(self.cost)"
      ],
      "metadata": {
        "id": "JYbE5dEji-qe"
      },
      "execution_count": null,
      "outputs": []
    },
    {
      "cell_type": "markdown",
      "source": [
        "Training the GCN Model and Evaluating its Accuracy on a Test Set"
      ],
      "metadata": {
        "id": "yX6SYlZjjA9G"
      }
    },
    {
      "cell_type": "code",
      "source": [
        "adj = load_data()\n",
        "num_nodes = adj.shape[0]\n",
        "num_edges = adj.sum()\n",
        "# Featureless\n",
        "features = sparse_to_tuple(sp.identity(num_nodes))\n",
        "num_features = features[2][1]\n",
        "features_nonzero = features[1].shape[0]\n",
        "\n",
        "# Store original adjacency matrix (without diagonal entries) for later\n",
        "adj_orig = adj - sp.dia_matrix((adj.diagonal()[np.newaxis, :], [0]), shape=adj.shape)\n",
        "adj_orig.eliminate_zeros()\n",
        "\n",
        "adj_train, train_edges, val_edges, val_edges_false, test_edges, test_edges_false = mask_test_edges(adj)\n",
        "adj = adj_train\n",
        "\n",
        "adj_norm = preprocess_graph(adj)"
      ],
      "metadata": {
        "id": "7HrKleaKjDVW"
      },
      "execution_count": null,
      "outputs": []
    },
    {
      "cell_type": "code",
      "source": [
        "tf.app.flags.DEFINE_string('f', '', 'kernel')\n",
        "# Define placeholders\n",
        "placeholders = {\n",
        "    'features': tf.sparse_placeholder(tf.float32),\n",
        "    'adj': tf.sparse_placeholder(tf.float32),\n",
        "    'adj_orig': tf.sparse_placeholder(tf.float32),\n",
        "    'dropout': tf.placeholder_with_default(0., shape=())\n",
        "}\n",
        "\n",
        "# Create model\n",
        "model = GCNModel(placeholders, num_features, features_nonzero, name='facebook_gcn')\n",
        "\n",
        "# Create optimizer\n",
        "with tf.name_scope('optimizer'):\n",
        "    opt = Optimizer(\n",
        "        preds=model.reconstructions,\n",
        "        labels=tf.reshape(tf.sparse_tensor_to_dense(placeholders['adj_orig'], validate_indices=False), [-1]),\n",
        "        num_nodes=num_nodes,\n",
        "        num_edges=num_edges)"
      ],
      "metadata": {
        "colab": {
          "base_uri": "https://localhost:8080/"
        },
        "id": "pDsTvJ5wjG_2",
        "outputId": "a992185f-1e0e-4f9e-dc05-0220b678e8c5"
      },
      "execution_count": null,
      "outputs": [
        {
          "output_type": "stream",
          "name": "stderr",
          "text": [
            "WARNING:tensorflow:From /usr/local/lib/python3.10/dist-packages/tensorflow/python/util/dispatch.py:1260: calling dropout (from tensorflow.python.ops.nn_ops) with keep_prob is deprecated and will be removed in a future version.\n",
            "Instructions for updating:\n",
            "Please use `rate` instead of `keep_prob`. Rate should be set to `rate = 1 - keep_prob`.\n",
            "WARNING:tensorflow:From /usr/local/lib/python3.10/dist-packages/tensorflow/python/util/dispatch.py:1260: calling weighted_cross_entropy_with_logits (from tensorflow.python.ops.nn_impl) with targets is deprecated and will be removed in a future version.\n",
            "Instructions for updating:\n",
            "targets is deprecated, use labels instead\n"
          ]
        }
      ]
    },
    {
      "cell_type": "code",
      "source": [
        "# Initialize session\n",
        "sess = tf.Session()\n",
        "sess.run(tf.global_variables_initializer()) # training happens\n",
        "\n",
        "adj_label = adj_train + sp.eye(adj_train.shape[0])\n",
        "adj_label = sparse_to_tuple(adj_label)\n",
        "\n",
        "# Train model\n",
        "for epoch in range(FLAGS.epochs):\n",
        "    t = time.time()\n",
        "    # Construct feed dictionary\n",
        "    feed_dict = construct_feed_dict(adj_norm, adj_label, features, placeholders)\n",
        "    feed_dict.update({placeholders['dropout']: FLAGS.dropout})\n",
        "    # One update of parameter matrices\n",
        "    _, avg_cost = sess.run([opt.opt_op, opt.cost], feed_dict=feed_dict)\n",
        "    # Performance on validation set\n",
        "    roc_curr, ap_curr = get_roc_score(val_edges, val_edges_false)\n",
        "\n",
        "\n",
        "    print(\"Epoch:\", '%04d' % (epoch + 1),\n",
        "          \"train_loss=\", \"{:.5f}\".format(avg_cost),\n",
        "          \"val_roc=\", \"{:.5f}\".format(roc_curr),\n",
        "          \"val_ap=\", \"{:.5f}\".format(ap_curr),\n",
        "          \"time=\", \"{:.5f}\".format(time.time() - t))\n",
        "\n",
        "print('Optimization Finished!')\n",
        "\n",
        "roc_score, ap_score = get_roc_score(test_edges, test_edges_false)\n",
        "#precision, recall = get_pre_rec(test_edges, test_edges_false)\n",
        "\n",
        "precisionVal, recallVal= get_pre_rec(test_edges, test_edges_false)\n",
        "\n",
        "cf_matrix = get_conf(test_edges, test_edges_false)\n",
        "\n",
        "test_edges[1], test_edges_false[1]\n",
        "print('Test ROC score: {:.5f}'.format(roc_score))\n",
        "print('Test AP score: {:.5f}'.format(ap_score))\n",
        "\n",
        "pyplot.show()\n"
      ],
      "metadata": {
        "colab": {
          "base_uri": "https://localhost:8080/"
        },
        "id": "9_oIixCWjLCu",
        "outputId": "6320e833-8f64-45a5-d0e9-21cc2def0557"
      },
      "execution_count": null,
      "outputs": [
        {
          "output_type": "stream",
          "name": "stdout",
          "text": [
            "Epoch: 0001 train_loss= 0.68475 val_roc= 0.96037 val_ap= 0.95227 time= 0.27667\n",
            "Epoch: 0002 train_loss= 0.68449 val_roc= 0.96852 val_ap= 0.96108 time= 0.09872\n",
            "Epoch: 0003 train_loss= 0.68369 val_roc= 0.97022 val_ap= 0.96806 time= 0.09637\n",
            "Epoch: 0004 train_loss= 0.68209 val_roc= 0.97159 val_ap= 0.97055 time= 0.09392\n",
            "Epoch: 0005 train_loss= 0.67873 val_roc= 0.97246 val_ap= 0.97130 time= 0.09584\n",
            "Epoch: 0006 train_loss= 0.67391 val_roc= 0.97295 val_ap= 0.97162 time= 0.09300\n",
            "Epoch: 0007 train_loss= 0.66574 val_roc= 0.97316 val_ap= 0.97168 time= 0.09486\n",
            "Epoch: 0008 train_loss= 0.65504 val_roc= 0.97332 val_ap= 0.97166 time= 0.09048\n",
            "Epoch: 0009 train_loss= 0.64010 val_roc= 0.97319 val_ap= 0.97147 time= 0.08612\n",
            "Epoch: 0010 train_loss= 0.61876 val_roc= 0.97278 val_ap= 0.97095 time= 0.08909\n",
            "Epoch: 0011 train_loss= 0.59210 val_roc= 0.97220 val_ap= 0.97027 time= 0.09146\n",
            "Epoch: 0012 train_loss= 0.56158 val_roc= 0.97151 val_ap= 0.96950 time= 0.09221\n",
            "Epoch: 0013 train_loss= 0.53016 val_roc= 0.97094 val_ap= 0.96882 time= 0.09146\n",
            "Epoch: 0014 train_loss= 0.50096 val_roc= 0.97061 val_ap= 0.96841 time= 0.10171\n",
            "Epoch: 0015 train_loss= 0.46959 val_roc= 0.97038 val_ap= 0.96803 time= 0.08847\n",
            "Epoch: 0016 train_loss= 0.45344 val_roc= 0.97013 val_ap= 0.96765 time= 0.09581\n",
            "Epoch: 0017 train_loss= 0.44477 val_roc= 0.97000 val_ap= 0.96743 time= 0.09206\n",
            "Epoch: 0018 train_loss= 0.43976 val_roc= 0.97000 val_ap= 0.96732 time= 0.09336\n",
            "Epoch: 0019 train_loss= 0.43806 val_roc= 0.97002 val_ap= 0.96730 time= 0.09728\n",
            "Epoch: 0020 train_loss= 0.43291 val_roc= 0.96998 val_ap= 0.96734 time= 0.09249\n",
            "Epoch: 0021 train_loss= 0.43408 val_roc= 0.96978 val_ap= 0.96732 time= 0.09435\n",
            "Epoch: 0022 train_loss= 0.42729 val_roc= 0.96956 val_ap= 0.96734 time= 0.08445\n",
            "Epoch: 0023 train_loss= 0.43079 val_roc= 0.96933 val_ap= 0.96742 time= 0.09101\n",
            "Epoch: 0024 train_loss= 0.42807 val_roc= 0.96934 val_ap= 0.96776 time= 0.08958\n",
            "Epoch: 0025 train_loss= 0.41960 val_roc= 0.96919 val_ap= 0.96795 time= 0.10654\n",
            "Epoch: 0026 train_loss= 0.42300 val_roc= 0.96924 val_ap= 0.96831 time= 0.09484\n",
            "Epoch: 0027 train_loss= 0.41540 val_roc= 0.96925 val_ap= 0.96856 time= 0.09176\n",
            "Epoch: 0028 train_loss= 0.41132 val_roc= 0.96939 val_ap= 0.96887 time= 0.09273\n",
            "Epoch: 0029 train_loss= 0.40837 val_roc= 0.96967 val_ap= 0.96919 time= 0.08782\n",
            "Epoch: 0030 train_loss= 0.40506 val_roc= 0.96977 val_ap= 0.96885 time= 0.08676\n",
            "Epoch: 0031 train_loss= 0.40538 val_roc= 0.96981 val_ap= 0.96814 time= 0.09586\n",
            "Epoch: 0032 train_loss= 0.40420 val_roc= 0.96975 val_ap= 0.96572 time= 0.09402\n",
            "Epoch: 0033 train_loss= 0.40447 val_roc= 0.97003 val_ap= 0.96584 time= 0.10686\n",
            "Epoch: 0034 train_loss= 0.40454 val_roc= 0.97058 val_ap= 0.96727 time= 0.14854\n",
            "Epoch: 0035 train_loss= 0.40292 val_roc= 0.97115 val_ap= 0.96903 time= 0.12474\n",
            "Epoch: 0036 train_loss= 0.40692 val_roc= 0.97162 val_ap= 0.97024 time= 0.16085\n",
            "Epoch: 0037 train_loss= 0.40495 val_roc= 0.97201 val_ap= 0.97086 time= 0.11914\n",
            "Epoch: 0038 train_loss= 0.39978 val_roc= 0.97227 val_ap= 0.97128 time= 0.17040\n",
            "Epoch: 0039 train_loss= 0.39735 val_roc= 0.97256 val_ap= 0.97178 time= 0.15548\n",
            "Epoch: 0040 train_loss= 0.39738 val_roc= 0.97259 val_ap= 0.97181 time= 0.15965\n",
            "Epoch: 0041 train_loss= 0.39710 val_roc= 0.97263 val_ap= 0.97185 time= 0.15544\n",
            "Epoch: 0042 train_loss= 0.39642 val_roc= 0.97255 val_ap= 0.97167 time= 0.16927\n",
            "Epoch: 0043 train_loss= 0.39643 val_roc= 0.97238 val_ap= 0.97142 time= 0.15578\n",
            "Epoch: 0044 train_loss= 0.39686 val_roc= 0.97242 val_ap= 0.97146 time= 0.15620\n",
            "Epoch: 0045 train_loss= 0.39678 val_roc= 0.97241 val_ap= 0.97143 time= 0.08734\n",
            "Epoch: 0046 train_loss= 0.39712 val_roc= 0.97233 val_ap= 0.97135 time= 0.15140\n",
            "Epoch: 0047 train_loss= 0.39629 val_roc= 0.97225 val_ap= 0.97130 time= 0.14991\n",
            "Epoch: 0048 train_loss= 0.39678 val_roc= 0.97228 val_ap= 0.97139 time= 0.13770\n",
            "Epoch: 0049 train_loss= 0.39679 val_roc= 0.97239 val_ap= 0.97154 time= 0.16101\n",
            "Epoch: 0050 train_loss= 0.39735 val_roc= 0.97237 val_ap= 0.97161 time= 0.15489\n",
            "Optimization Finished!\n",
            "Test ROC score: 0.96794\n",
            "Test AP score: 0.96594\n"
          ]
        }
      ]
    },
    {
      "cell_type": "code",
      "source": [
        "# for curve plotting   ------\n",
        "\n",
        "\n",
        "# Initialize session\n",
        "sess = tf.Session()\n",
        "sess.run(tf.global_variables_initializer())\n",
        "\n",
        "adj_label = adj_train + sp.eye(adj_train.shape[0])\n",
        "adj_label = sparse_to_tuple(adj_label)\n",
        "\n",
        "# Train model\n",
        "for epoch in range(FLAGS.epochs):\n",
        "    t = time.time()\n",
        "    # Construct feed dictionary\n",
        "    feed_dict = construct_feed_dict(adj_norm, adj_label, features, placeholders)\n",
        "    feed_dict.update({placeholders['dropout']: FLAGS.dropout})\n",
        "    # One update of parameter matrices\n",
        "    _, avg_cost = sess.run([opt.opt_op, opt.cost], feed_dict=feed_dict)\n",
        "    # Performance on validation set\n",
        "\n",
        "\n",
        "    #precision, recall = get_pre_rec(val_edges, val_edges_false)\n",
        "    precisionVal, recallVal= get_pre_rec(test_edges, test_edges_false)\n"
      ],
      "metadata": {
        "id": "4XTudg_MjPJO"
      },
      "execution_count": null,
      "outputs": []
    },
    {
      "cell_type": "code",
      "source": [
        "pyplot.plot(recallVal, precisionVal, marker='.', label='GCN')\n",
        "# axis labels\n",
        "pyplot.xlabel('Recall')\n",
        "pyplot.ylabel('Precision')\n",
        "# show the legend\n",
        "pyplot.legend()\n",
        "# show the plot\n",
        "pyplot.show()"
      ],
      "metadata": {
        "colab": {
          "base_uri": "https://localhost:8080/",
          "height": 449
        },
        "id": "f1FJs5YqjRld",
        "outputId": "66eaf7de-d830-4a49-aa80-9f21973418d4"
      },
      "execution_count": null,
      "outputs": [
        {
          "output_type": "display_data",
          "data": {
            "text/plain": [
              "<Figure size 640x480 with 1 Axes>"
            ],
            "image/png": "[encoded data removed]"
          },
          "metadata": {}
        }
      ]
    },
    {
      "cell_type": "code",
      "source": [
        "print(cf_matrix)"
      ],
      "metadata": {
        "colab": {
          "base_uri": "https://localhost:8080/"
        },
        "id": "aQt-3GwcjTnm",
        "outputId": "d79e4bb7-fe7e-42bd-84d8-fd355bc18654"
      },
      "execution_count": null,
      "outputs": [
        {
          "output_type": "stream",
          "name": "stdout",
          "text": [
            "[[479 121]\n",
            " [ 37 563]]\n"
          ]
        }
      ]
    },
    {
      "cell_type": "code",
      "source": [
        "group_names = ['TN','FP', 'FN', 'TP']\n",
        "group_counts = ['{0:0.0f}'.format(value) for value in\n",
        "                cf_matrix.flatten()]\n",
        "group_percentages = ['{0:.5%}'.format(value) for value in\n",
        "                     cf_matrix.flatten()/np.sum(cf_matrix)]\n",
        "labels_conf= [f'{v1}\\n{v2}\\n{v3}' for v1, v2, v3 in\n",
        "          zip(group_names,group_counts,group_percentages)]\n",
        "labels_conf = np.asarray(labels_conf).reshape(2,2)\n",
        "sns.heatmap(cf_matrix, annot=labels_conf, fmt='', cmap='Set3')"
      ],
      "metadata": {
        "colab": {
          "base_uri": "https://localhost:8080/",
          "height": 447
        },
        "id": "u96GOZ_Gjcdd",
        "outputId": "dccb63b6-550a-4bd0-e4db-3df9f2d43adc"
      },
      "execution_count": null,
      "outputs": [
        {
          "output_type": "execute_result",
          "data": {
            "text/plain": [
              "<Axes: >"
            ]
          },
          "metadata": {},
          "execution_count": 13
        },
        {
          "output_type": "display_data",
          "data": {
            "text/plain": [
              "<Figure size 640x480 with 2 Axes>"
            ],
            "image/png": "[encoded data removed]"
          },
          "metadata": {}
        }
      ]
    }
  ]
}